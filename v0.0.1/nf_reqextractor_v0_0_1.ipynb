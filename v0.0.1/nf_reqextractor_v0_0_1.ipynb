{
  "nbformat": 4,
  "nbformat_minor": 0,
  "metadata": {
    "colab": {
      "provenance": [],
      "collapsed_sections": [
        "EsoC9OaAUT0w",
        "-jp8g4TpU73r",
        "ZuTmwfI3VPtP",
        "R19RliSJV2Mp",
        "F7Ly8S9bYZH5",
        "jWPkAU5vZJ9-",
        "GgpmpPzAZVof",
        "mxvqFaGGaF_6",
        "PJV1taQRaMrC"
      ],
      "authorship_tag": "ABX9TyMlWTDUgI6ek5ssjmv0tevd",
      "include_colab_link": true
    },
    "kernelspec": {
      "name": "python3",
      "display_name": "Python 3"
    },
    "language_info": {
      "name": "python"
    }
  },
  "cells": [
    {
      "cell_type": "markdown",
      "metadata": {
        "id": "view-in-github",
        "colab_type": "text"
      },
      "source": [
        "<a href=\"https://colab.research.google.com/github/nicolasffn/nf_reqextractor/blob/main/nf_reqextractor.ipynb\" target=\"_parent\"><img src=\"https://colab.research.google.com/assets/colab-badge.svg\" alt=\"Open In Colab\"/></a>"
      ]
    },
    {
      "cell_type": "markdown",
      "source": [
        "#Part 1: Imports the required libraries and modules."
      ],
      "metadata": {
        "id": "EsoC9OaAUT0w"
      }
    },
    {
      "cell_type": "code",
      "execution_count": 1,
      "metadata": {
        "id": "1EcwooZrUTRj"
      },
      "outputs": [],
      "source": [
        "import pandas as pd\n",
        "import numpy as np\n",
        "from sklearn.model_selection import train_test_split\n",
        "from sklearn.preprocessing import LabelEncoder\n",
        "from tensorflow.keras.preprocessing.text import Tokenizer\n",
        "from tensorflow.keras.preprocessing.sequence import pad_sequences\n",
        "from tensorflow.keras.models import Sequential\n",
        "from tensorflow.keras.layers import Dense, Embedding, LSTM, SpatialDropout1D\n",
        "from keras.utils.np_utils import to_categorical"
      ]
    },
    {
      "cell_type": "markdown",
      "source": [
        "# Part 2: Loads the data from a CSV file, splits it into training and testing sets, and encodes the labels as integers."
      ],
      "metadata": {
        "id": "-jp8g4TpU73r"
      }
    },
    {
      "cell_type": "code",
      "source": [
        "# Read the CSV file into a dataframe\n",
        "df = pd.read_csv('./assets/csv/requirements.csv')\n",
        "\n",
        "# Split the data into training and testing sets\n",
        "train_df, test_df = train_test_split(df, test_size=0.2)\n",
        "\n",
        "# Encode the labels as integers\n",
        "label_encoder = LabelEncoder()\n",
        "train_df['label'] = label_encoder.fit_transform(train_df['label'])\n",
        "test_df['label'] = label_encoder.transform(test_df['label'])"
      ],
      "metadata": {
        "id": "WCPiwGtSUn2m"
      },
      "execution_count": 3,
      "outputs": []
    },
    {
      "cell_type": "markdown",
      "source": [
        "# Part 3: Tokenizes the text data and pads the sequences to the same length. The labels are also converted to one-hot encoded arrays."
      ],
      "metadata": {
        "id": "ZuTmwfI3VPtP"
      }
    },
    {
      "cell_type": "code",
      "source": [
        "tokenizer = Tokenizer(num_words=5000)\n",
        "tokenizer.fit_on_texts(train_df['text'])\n",
        "train_sequences = tokenizer.texts_to_sequences(train_df['text'])\n",
        "test_sequences = tokenizer.texts_to_sequences(test_df['text'])\n",
        "\n",
        "# Pad the sequences to the same length\n",
        "max_length = max([len(s) for s in train_sequences + test_sequences])\n",
        "train_data = pad_sequences(train_sequences, maxlen=max_length)\n",
        "test_data = pad_sequences(test_sequences, maxlen=max_length)\n",
        "\n",
        "# Convert the labels to one-hot encoded arrays\n",
        "train_labels = to_categorical(train_df['label'], num_classes=len(label_encoder.classes_))\n",
        "test_labels = to_categorical(test_df['label'], num_classes=len(label_encoder.classes_))"
      ],
      "metadata": {
        "id": "-9voivD3VUQq"
      },
      "execution_count": 4,
      "outputs": []
    },
    {
      "cell_type": "markdown",
      "source": [
        "# Part 4: Defines the architecture of the neural network and trains it on the training data.\n",
        "\n"
      ],
      "metadata": {
        "id": "R19RliSJV2Mp"
      }
    },
    {
      "cell_type": "code",
      "source": [
        "model = Sequential()\n",
        "model.add(Embedding(5000, 100, input_length=max_length))\n",
        "model.add(SpatialDropout1D(0.2))\n",
        "model.add(LSTM(256, dropout=0.2, recurrent_dropout=0.2))\n",
        "model.add(Dense(len(label_encoder.classes_), activation='softmax'))\n",
        "model.compile(loss='categorical_crossentropy', optimizer='adam', metrics=['binary_accuracy'])\n",
        "\n",
        "# Train the model\n",
        "model.fit(train_data, train_labels, epochs=150, batch_size=600, validation_data=(test_data, test_labels))"
      ],
      "metadata": {
        "colab": {
          "base_uri": "https://localhost:8080/"
        },
        "id": "DHPv-1GJV4_i",
        "outputId": "e2307382-0384-4f7d-f060-b1593a3a7edc"
      },
      "execution_count": 5,
      "outputs": [
        {
          "output_type": "stream",
          "name": "stdout",
          "text": [
            "Epoch 1/150\n",
            "1/1 [==============================] - 8s 8s/step - loss: 2.4846 - binary_accuracy: 0.9167 - val_loss: 2.4685 - val_binary_accuracy: 0.9167\n",
            "Epoch 2/150\n",
            "1/1 [==============================] - 3s 3s/step - loss: 2.4676 - binary_accuracy: 0.9167 - val_loss: 2.4445 - val_binary_accuracy: 0.9167\n",
            "Epoch 3/150\n",
            "1/1 [==============================] - 5s 5s/step - loss: 2.4449 - binary_accuracy: 0.9167 - val_loss: 2.3973 - val_binary_accuracy: 0.9167\n",
            "Epoch 4/150\n",
            "1/1 [==============================] - 3s 3s/step - loss: 2.4004 - binary_accuracy: 0.9167 - val_loss: 2.2688 - val_binary_accuracy: 0.9167\n",
            "Epoch 5/150\n",
            "1/1 [==============================] - 3s 3s/step - loss: 2.2812 - binary_accuracy: 0.9167 - val_loss: 1.9455 - val_binary_accuracy: 0.9167\n",
            "Epoch 6/150\n",
            "1/1 [==============================] - 5s 5s/step - loss: 2.0240 - binary_accuracy: 0.9165 - val_loss: 2.2628 - val_binary_accuracy: 0.9080\n",
            "Epoch 7/150\n",
            "1/1 [==============================] - 3s 3s/step - loss: 2.4654 - binary_accuracy: 0.8997 - val_loss: 1.9409 - val_binary_accuracy: 0.9080\n",
            "Epoch 8/150\n",
            "1/1 [==============================] - 3s 3s/step - loss: 2.0826 - binary_accuracy: 0.8997 - val_loss: 1.9173 - val_binary_accuracy: 0.9167\n",
            "Epoch 9/150\n",
            "1/1 [==============================] - 3s 3s/step - loss: 1.9894 - binary_accuracy: 0.9167 - val_loss: 2.0229 - val_binary_accuracy: 0.9167\n",
            "Epoch 10/150\n",
            "1/1 [==============================] - 6s 6s/step - loss: 2.0639 - binary_accuracy: 0.9167 - val_loss: 2.0457 - val_binary_accuracy: 0.9167\n",
            "Epoch 11/150\n",
            "1/1 [==============================] - 3s 3s/step - loss: 2.0810 - binary_accuracy: 0.9167 - val_loss: 2.0195 - val_binary_accuracy: 0.9167\n",
            "Epoch 12/150\n",
            "1/1 [==============================] - 4s 4s/step - loss: 2.0591 - binary_accuracy: 0.9167 - val_loss: 1.9763 - val_binary_accuracy: 0.9167\n",
            "Epoch 13/150\n",
            "1/1 [==============================] - 5s 5s/step - loss: 2.0220 - binary_accuracy: 0.9167 - val_loss: 1.9321 - val_binary_accuracy: 0.9167\n",
            "Epoch 14/150\n",
            "1/1 [==============================] - 3s 3s/step - loss: 1.9871 - binary_accuracy: 0.9167 - val_loss: 1.8920 - val_binary_accuracy: 0.9167\n",
            "Epoch 15/150\n",
            "1/1 [==============================] - 3s 3s/step - loss: 1.9597 - binary_accuracy: 0.9167 - val_loss: 1.8594 - val_binary_accuracy: 0.9167\n",
            "Epoch 16/150\n",
            "1/1 [==============================] - 4s 4s/step - loss: 1.9420 - binary_accuracy: 0.9167 - val_loss: 1.8381 - val_binary_accuracy: 0.9167\n",
            "Epoch 17/150\n",
            "1/1 [==============================] - 4s 4s/step - loss: 1.9264 - binary_accuracy: 0.9167 - val_loss: 1.8284 - val_binary_accuracy: 0.9167\n",
            "Epoch 18/150\n",
            "1/1 [==============================] - 3s 3s/step - loss: 1.9256 - binary_accuracy: 0.9167 - val_loss: 1.8262 - val_binary_accuracy: 0.9193\n",
            "Epoch 19/150\n",
            "1/1 [==============================] - 3s 3s/step - loss: 1.9254 - binary_accuracy: 0.9272 - val_loss: 1.8252 - val_binary_accuracy: 0.9260\n",
            "Epoch 20/150\n",
            "1/1 [==============================] - 5s 5s/step - loss: 1.9279 - binary_accuracy: 0.9385 - val_loss: 1.8223 - val_binary_accuracy: 0.9260\n",
            "Epoch 21/150\n",
            "1/1 [==============================] - 3s 3s/step - loss: 1.9194 - binary_accuracy: 0.9410 - val_loss: 1.8176 - val_binary_accuracy: 0.9313\n",
            "Epoch 22/150\n",
            "1/1 [==============================] - 3s 3s/step - loss: 1.9093 - binary_accuracy: 0.9350 - val_loss: 1.8135 - val_binary_accuracy: 0.9173\n",
            "Epoch 23/150\n",
            "1/1 [==============================] - 4s 4s/step - loss: 1.8939 - binary_accuracy: 0.9220 - val_loss: 1.8116 - val_binary_accuracy: 0.9167\n",
            "Epoch 24/150\n",
            "1/1 [==============================] - 4s 4s/step - loss: 1.8827 - binary_accuracy: 0.9167 - val_loss: 1.8121 - val_binary_accuracy: 0.9167\n",
            "Epoch 25/150\n",
            "1/1 [==============================] - 3s 3s/step - loss: 1.8726 - binary_accuracy: 0.9167 - val_loss: 1.8137 - val_binary_accuracy: 0.9167\n",
            "Epoch 26/150\n",
            "1/1 [==============================] - 3s 3s/step - loss: 1.8608 - binary_accuracy: 0.9167 - val_loss: 1.8147 - val_binary_accuracy: 0.9167\n",
            "Epoch 27/150\n",
            "1/1 [==============================] - 5s 5s/step - loss: 1.8527 - binary_accuracy: 0.9167 - val_loss: 1.8133 - val_binary_accuracy: 0.9167\n",
            "Epoch 28/150\n",
            "1/1 [==============================] - 3s 3s/step - loss: 1.8428 - binary_accuracy: 0.9167 - val_loss: 1.8087 - val_binary_accuracy: 0.9167\n",
            "Epoch 29/150\n",
            "1/1 [==============================] - 3s 3s/step - loss: 1.8275 - binary_accuracy: 0.9167 - val_loss: 1.8008 - val_binary_accuracy: 0.9167\n",
            "Epoch 30/150\n",
            "1/1 [==============================] - 4s 4s/step - loss: 1.8139 - binary_accuracy: 0.9167 - val_loss: 1.7897 - val_binary_accuracy: 0.9167\n",
            "Epoch 31/150\n",
            "1/1 [==============================] - 4s 4s/step - loss: 1.7903 - binary_accuracy: 0.9167 - val_loss: 1.7765 - val_binary_accuracy: 0.9167\n",
            "Epoch 32/150\n",
            "1/1 [==============================] - 3s 3s/step - loss: 1.7687 - binary_accuracy: 0.9177 - val_loss: 1.7621 - val_binary_accuracy: 0.9180\n",
            "Epoch 33/150\n",
            "1/1 [==============================] - 3s 3s/step - loss: 1.7451 - binary_accuracy: 0.9243 - val_loss: 1.7478 - val_binary_accuracy: 0.9247\n",
            "Epoch 34/150\n",
            "1/1 [==============================] - 5s 5s/step - loss: 1.7156 - binary_accuracy: 0.9322 - val_loss: 1.7344 - val_binary_accuracy: 0.9273\n",
            "Epoch 35/150\n",
            "1/1 [==============================] - 3s 3s/step - loss: 1.6887 - binary_accuracy: 0.9393 - val_loss: 1.7221 - val_binary_accuracy: 0.9320\n",
            "Epoch 36/150\n",
            "1/1 [==============================] - 3s 3s/step - loss: 1.6599 - binary_accuracy: 0.9415 - val_loss: 1.7112 - val_binary_accuracy: 0.9313\n",
            "Epoch 37/150\n",
            "1/1 [==============================] - 4s 4s/step - loss: 1.6319 - binary_accuracy: 0.9433 - val_loss: 1.6993 - val_binary_accuracy: 0.9293\n",
            "Epoch 38/150\n",
            "1/1 [==============================] - 4s 4s/step - loss: 1.6039 - binary_accuracy: 0.9415 - val_loss: 1.6797 - val_binary_accuracy: 0.9293\n",
            "Epoch 39/150\n",
            "1/1 [==============================] - 3s 3s/step - loss: 1.5717 - binary_accuracy: 0.9418 - val_loss: 1.6524 - val_binary_accuracy: 0.9340\n",
            "Epoch 40/150\n",
            "1/1 [==============================] - 5s 5s/step - loss: 1.5319 - binary_accuracy: 0.9432 - val_loss: 1.6241 - val_binary_accuracy: 0.9373\n",
            "Epoch 41/150\n",
            "1/1 [==============================] - 5s 5s/step - loss: 1.4890 - binary_accuracy: 0.9445 - val_loss: 1.5940 - val_binary_accuracy: 0.9353\n",
            "Epoch 42/150\n",
            "1/1 [==============================] - 3s 3s/step - loss: 1.4449 - binary_accuracy: 0.9450 - val_loss: 1.5632 - val_binary_accuracy: 0.9367\n",
            "Epoch 43/150\n",
            "1/1 [==============================] - 3s 3s/step - loss: 1.4004 - binary_accuracy: 0.9462 - val_loss: 1.5296 - val_binary_accuracy: 0.9387\n",
            "Epoch 44/150\n",
            "1/1 [==============================] - 5s 5s/step - loss: 1.3472 - binary_accuracy: 0.9460 - val_loss: 1.4937 - val_binary_accuracy: 0.9393\n",
            "Epoch 45/150\n",
            "1/1 [==============================] - 3s 3s/step - loss: 1.2968 - binary_accuracy: 0.9460 - val_loss: 1.4586 - val_binary_accuracy: 0.9387\n",
            "Epoch 46/150\n",
            "1/1 [==============================] - 3s 3s/step - loss: 1.2448 - binary_accuracy: 0.9470 - val_loss: 1.4024 - val_binary_accuracy: 0.9400\n",
            "Epoch 47/150\n",
            "1/1 [==============================] - 5s 5s/step - loss: 1.1745 - binary_accuracy: 0.9470 - val_loss: 1.3747 - val_binary_accuracy: 0.9433\n",
            "Epoch 48/150\n",
            "1/1 [==============================] - 3s 3s/step - loss: 1.1403 - binary_accuracy: 0.9480 - val_loss: 1.8619 - val_binary_accuracy: 0.9153\n",
            "Epoch 49/150\n",
            "1/1 [==============================] - 3s 3s/step - loss: 1.4809 - binary_accuracy: 0.9315 - val_loss: 1.5232 - val_binary_accuracy: 0.9353\n",
            "Epoch 50/150\n",
            "1/1 [==============================] - 3s 3s/step - loss: 1.1864 - binary_accuracy: 0.9503 - val_loss: 1.6138 - val_binary_accuracy: 0.9287\n",
            "Epoch 51/150\n",
            "1/1 [==============================] - 5s 5s/step - loss: 1.2402 - binary_accuracy: 0.9442 - val_loss: 1.6073 - val_binary_accuracy: 0.9280\n",
            "Epoch 52/150\n",
            "1/1 [==============================] - 3s 3s/step - loss: 1.2197 - binary_accuracy: 0.9432 - val_loss: 1.5480 - val_binary_accuracy: 0.9320\n",
            "Epoch 53/150\n",
            "1/1 [==============================] - 3s 3s/step - loss: 1.1501 - binary_accuracy: 0.9483 - val_loss: 1.4840 - val_binary_accuracy: 0.9367\n",
            "Epoch 54/150\n",
            "1/1 [==============================] - 5s 5s/step - loss: 1.0952 - binary_accuracy: 0.9537 - val_loss: 1.4370 - val_binary_accuracy: 0.9400\n",
            "Epoch 55/150\n",
            "1/1 [==============================] - 3s 3s/step - loss: 1.0474 - binary_accuracy: 0.9565 - val_loss: 1.4024 - val_binary_accuracy: 0.9427\n",
            "Epoch 56/150\n",
            "1/1 [==============================] - 3s 3s/step - loss: 1.0150 - binary_accuracy: 0.9582 - val_loss: 1.3868 - val_binary_accuracy: 0.9407\n",
            "Epoch 57/150\n",
            "1/1 [==============================] - 4s 4s/step - loss: 0.9849 - binary_accuracy: 0.9580 - val_loss: 1.3536 - val_binary_accuracy: 0.9400\n",
            "Epoch 58/150\n",
            "1/1 [==============================] - 4s 4s/step - loss: 0.9649 - binary_accuracy: 0.9572 - val_loss: 1.3186 - val_binary_accuracy: 0.9400\n",
            "Epoch 59/150\n",
            "1/1 [==============================] - 3s 3s/step - loss: 0.9456 - binary_accuracy: 0.9573 - val_loss: 1.2887 - val_binary_accuracy: 0.9407\n",
            "Epoch 60/150\n",
            "1/1 [==============================] - 3s 3s/step - loss: 0.9125 - binary_accuracy: 0.9582 - val_loss: 1.2466 - val_binary_accuracy: 0.9447\n",
            "Epoch 61/150\n",
            "1/1 [==============================] - 5s 5s/step - loss: 0.8731 - binary_accuracy: 0.9595 - val_loss: 1.2147 - val_binary_accuracy: 0.9493\n",
            "Epoch 62/150\n",
            "1/1 [==============================] - 3s 3s/step - loss: 0.8347 - binary_accuracy: 0.9622 - val_loss: 1.1939 - val_binary_accuracy: 0.9507\n",
            "Epoch 63/150\n",
            "1/1 [==============================] - 3s 3s/step - loss: 0.8049 - binary_accuracy: 0.9625 - val_loss: 1.1750 - val_binary_accuracy: 0.9513\n",
            "Epoch 64/150\n",
            "1/1 [==============================] - 4s 4s/step - loss: 0.7637 - binary_accuracy: 0.9653 - val_loss: 1.1661 - val_binary_accuracy: 0.9493\n",
            "Epoch 65/150\n",
            "1/1 [==============================] - 4s 4s/step - loss: 0.7249 - binary_accuracy: 0.9673 - val_loss: 1.1778 - val_binary_accuracy: 0.9473\n",
            "Epoch 66/150\n",
            "1/1 [==============================] - 3s 3s/step - loss: 0.7075 - binary_accuracy: 0.9697 - val_loss: 1.1404 - val_binary_accuracy: 0.9540\n",
            "Epoch 67/150\n",
            "1/1 [==============================] - 3s 3s/step - loss: 0.6587 - binary_accuracy: 0.9720 - val_loss: 1.1268 - val_binary_accuracy: 0.9547\n",
            "Epoch 68/150\n",
            "1/1 [==============================] - 5s 5s/step - loss: 0.6332 - binary_accuracy: 0.9760 - val_loss: 1.1343 - val_binary_accuracy: 0.9547\n",
            "Epoch 69/150\n",
            "1/1 [==============================] - 3s 3s/step - loss: 0.5905 - binary_accuracy: 0.9768 - val_loss: 1.1539 - val_binary_accuracy: 0.9547\n",
            "Epoch 70/150\n",
            "1/1 [==============================] - 3s 3s/step - loss: 0.5674 - binary_accuracy: 0.9763 - val_loss: 1.1418 - val_binary_accuracy: 0.9540\n",
            "Epoch 71/150\n",
            "1/1 [==============================] - 5s 5s/step - loss: 0.5547 - binary_accuracy: 0.9780 - val_loss: 1.1217 - val_binary_accuracy: 0.9580\n",
            "Epoch 72/150\n",
            "1/1 [==============================] - 3s 3s/step - loss: 0.5044 - binary_accuracy: 0.9812 - val_loss: 1.1942 - val_binary_accuracy: 0.9547\n",
            "Epoch 73/150\n",
            "1/1 [==============================] - 3s 3s/step - loss: 0.4965 - binary_accuracy: 0.9802 - val_loss: 1.1427 - val_binary_accuracy: 0.9553\n",
            "Epoch 74/150\n",
            "1/1 [==============================] - 3s 3s/step - loss: 0.4677 - binary_accuracy: 0.9810 - val_loss: 1.0975 - val_binary_accuracy: 0.9567\n",
            "Epoch 75/150\n",
            "1/1 [==============================] - 5s 5s/step - loss: 0.4450 - binary_accuracy: 0.9832 - val_loss: 1.0943 - val_binary_accuracy: 0.9567\n",
            "Epoch 76/150\n",
            "1/1 [==============================] - 5s 5s/step - loss: 0.4238 - binary_accuracy: 0.9837 - val_loss: 1.1059 - val_binary_accuracy: 0.9567\n",
            "Epoch 77/150\n",
            "1/1 [==============================] - 3s 3s/step - loss: 0.4045 - binary_accuracy: 0.9847 - val_loss: 1.1501 - val_binary_accuracy: 0.9560\n",
            "Epoch 78/150\n",
            "1/1 [==============================] - 5s 5s/step - loss: 0.3848 - binary_accuracy: 0.9863 - val_loss: 1.1863 - val_binary_accuracy: 0.9573\n",
            "Epoch 79/150\n",
            "1/1 [==============================] - 3s 3s/step - loss: 0.3659 - binary_accuracy: 0.9863 - val_loss: 1.1702 - val_binary_accuracy: 0.9587\n",
            "Epoch 80/150\n",
            "1/1 [==============================] - 3s 3s/step - loss: 0.3411 - binary_accuracy: 0.9863 - val_loss: 1.1566 - val_binary_accuracy: 0.9567\n",
            "Epoch 81/150\n",
            "1/1 [==============================] - 5s 5s/step - loss: 0.3262 - binary_accuracy: 0.9862 - val_loss: 1.1719 - val_binary_accuracy: 0.9573\n",
            "Epoch 82/150\n",
            "1/1 [==============================] - 3s 3s/step - loss: 0.3149 - binary_accuracy: 0.9872 - val_loss: 1.2147 - val_binary_accuracy: 0.9547\n",
            "Epoch 83/150\n",
            "1/1 [==============================] - 3s 3s/step - loss: 0.2996 - binary_accuracy: 0.9867 - val_loss: 1.2276 - val_binary_accuracy: 0.9560\n",
            "Epoch 84/150\n",
            "1/1 [==============================] - 3s 3s/step - loss: 0.2870 - binary_accuracy: 0.9863 - val_loss: 1.2686 - val_binary_accuracy: 0.9573\n",
            "Epoch 85/150\n",
            "1/1 [==============================] - 4s 4s/step - loss: 0.2712 - binary_accuracy: 0.9872 - val_loss: 1.1781 - val_binary_accuracy: 0.9600\n",
            "Epoch 86/150\n",
            "1/1 [==============================] - 3s 3s/step - loss: 0.2561 - binary_accuracy: 0.9882 - val_loss: 1.1782 - val_binary_accuracy: 0.9560\n",
            "Epoch 87/150\n",
            "1/1 [==============================] - 3s 3s/step - loss: 0.2597 - binary_accuracy: 0.9868 - val_loss: 1.2119 - val_binary_accuracy: 0.9567\n",
            "Epoch 88/150\n",
            "1/1 [==============================] - 5s 5s/step - loss: 0.2459 - binary_accuracy: 0.9877 - val_loss: 1.3401 - val_binary_accuracy: 0.9587\n",
            "Epoch 89/150\n",
            "1/1 [==============================] - 3s 3s/step - loss: 0.2335 - binary_accuracy: 0.9887 - val_loss: 1.3423 - val_binary_accuracy: 0.9567\n",
            "Epoch 90/150\n",
            "1/1 [==============================] - 3s 3s/step - loss: 0.2197 - binary_accuracy: 0.9885 - val_loss: 1.2326 - val_binary_accuracy: 0.9553\n",
            "Epoch 91/150\n",
            "1/1 [==============================] - 4s 4s/step - loss: 0.2132 - binary_accuracy: 0.9887 - val_loss: 1.2288 - val_binary_accuracy: 0.9560\n",
            "Epoch 92/150\n",
            "1/1 [==============================] - 4s 4s/step - loss: 0.2043 - binary_accuracy: 0.9892 - val_loss: 1.2884 - val_binary_accuracy: 0.9567\n",
            "Epoch 93/150\n",
            "1/1 [==============================] - 3s 3s/step - loss: 0.1967 - binary_accuracy: 0.9900 - val_loss: 1.3193 - val_binary_accuracy: 0.9580\n",
            "Epoch 94/150\n",
            "1/1 [==============================] - 3s 3s/step - loss: 0.1886 - binary_accuracy: 0.9900 - val_loss: 1.3394 - val_binary_accuracy: 0.9513\n",
            "Epoch 95/150\n",
            "1/1 [==============================] - 5s 5s/step - loss: 0.1820 - binary_accuracy: 0.9898 - val_loss: 1.3881 - val_binary_accuracy: 0.9500\n",
            "Epoch 96/150\n",
            "1/1 [==============================] - 3s 3s/step - loss: 0.1667 - binary_accuracy: 0.9912 - val_loss: 1.4917 - val_binary_accuracy: 0.9513\n",
            "Epoch 97/150\n",
            "1/1 [==============================] - 3s 3s/step - loss: 0.1634 - binary_accuracy: 0.9918 - val_loss: 1.4313 - val_binary_accuracy: 0.9507\n",
            "Epoch 98/150\n",
            "1/1 [==============================] - 4s 4s/step - loss: 0.1538 - binary_accuracy: 0.9923 - val_loss: 1.3200 - val_binary_accuracy: 0.9553\n",
            "Epoch 99/150\n",
            "1/1 [==============================] - 4s 4s/step - loss: 0.1476 - binary_accuracy: 0.9930 - val_loss: 1.3102 - val_binary_accuracy: 0.9560\n",
            "Epoch 100/150\n",
            "1/1 [==============================] - 3s 3s/step - loss: 0.1395 - binary_accuracy: 0.9932 - val_loss: 1.3277 - val_binary_accuracy: 0.9560\n",
            "Epoch 101/150\n",
            "1/1 [==============================] - 3s 3s/step - loss: 0.1289 - binary_accuracy: 0.9937 - val_loss: 1.3835 - val_binary_accuracy: 0.9560\n",
            "Epoch 102/150\n",
            "1/1 [==============================] - 5s 5s/step - loss: 0.1227 - binary_accuracy: 0.9953 - val_loss: 1.4570 - val_binary_accuracy: 0.9527\n",
            "Epoch 103/150\n",
            "1/1 [==============================] - 3s 3s/step - loss: 0.1229 - binary_accuracy: 0.9958 - val_loss: 1.3599 - val_binary_accuracy: 0.9540\n",
            "Epoch 104/150\n",
            "1/1 [==============================] - 3s 3s/step - loss: 0.1116 - binary_accuracy: 0.9965 - val_loss: 1.2512 - val_binary_accuracy: 0.9553\n",
            "Epoch 105/150\n",
            "1/1 [==============================] - 4s 4s/step - loss: 0.1049 - binary_accuracy: 0.9973 - val_loss: 1.2548 - val_binary_accuracy: 0.9567\n",
            "Epoch 106/150\n",
            "1/1 [==============================] - 4s 4s/step - loss: 0.0962 - binary_accuracy: 0.9982 - val_loss: 1.3034 - val_binary_accuracy: 0.9533\n",
            "Epoch 107/150\n",
            "1/1 [==============================] - 3s 3s/step - loss: 0.0963 - binary_accuracy: 0.9973 - val_loss: 1.3976 - val_binary_accuracy: 0.9533\n",
            "Epoch 108/150\n",
            "1/1 [==============================] - 3s 3s/step - loss: 0.0912 - binary_accuracy: 0.9968 - val_loss: 1.4439 - val_binary_accuracy: 0.9493\n",
            "Epoch 109/150\n",
            "1/1 [==============================] - 5s 5s/step - loss: 0.0811 - binary_accuracy: 0.9978 - val_loss: 1.3672 - val_binary_accuracy: 0.9533\n",
            "Epoch 110/150\n",
            "1/1 [==============================] - 3s 3s/step - loss: 0.0727 - binary_accuracy: 0.9980 - val_loss: 1.3406 - val_binary_accuracy: 0.9560\n",
            "Epoch 111/150\n",
            "1/1 [==============================] - 3s 3s/step - loss: 0.0748 - binary_accuracy: 0.9982 - val_loss: 1.3459 - val_binary_accuracy: 0.9573\n",
            "Epoch 112/150\n",
            "1/1 [==============================] - 5s 5s/step - loss: 0.0712 - binary_accuracy: 0.9983 - val_loss: 1.3757 - val_binary_accuracy: 0.9593\n",
            "Epoch 113/150\n",
            "1/1 [==============================] - 3s 3s/step - loss: 0.0685 - binary_accuracy: 0.9982 - val_loss: 1.3971 - val_binary_accuracy: 0.9573\n",
            "Epoch 114/150\n",
            "1/1 [==============================] - 3s 3s/step - loss: 0.0602 - binary_accuracy: 0.9978 - val_loss: 1.4205 - val_binary_accuracy: 0.9580\n",
            "Epoch 115/150\n",
            "1/1 [==============================] - 3s 3s/step - loss: 0.0564 - binary_accuracy: 0.9983 - val_loss: 1.4314 - val_binary_accuracy: 0.9560\n",
            "Epoch 116/150\n",
            "1/1 [==============================] - 4s 4s/step - loss: 0.0507 - binary_accuracy: 0.9990 - val_loss: 1.4300 - val_binary_accuracy: 0.9567\n",
            "Epoch 117/150\n",
            "1/1 [==============================] - 3s 3s/step - loss: 0.0455 - binary_accuracy: 0.9983 - val_loss: 1.4264 - val_binary_accuracy: 0.9573\n",
            "Epoch 118/150\n",
            "1/1 [==============================] - 3s 3s/step - loss: 0.0467 - binary_accuracy: 0.9990 - val_loss: 1.4156 - val_binary_accuracy: 0.9573\n",
            "Epoch 119/150\n",
            "1/1 [==============================] - 5s 5s/step - loss: 0.0372 - binary_accuracy: 0.9990 - val_loss: 1.4086 - val_binary_accuracy: 0.9580\n",
            "Epoch 120/150\n",
            "1/1 [==============================] - 3s 3s/step - loss: 0.0388 - binary_accuracy: 0.9987 - val_loss: 1.3914 - val_binary_accuracy: 0.9593\n",
            "Epoch 121/150\n",
            "1/1 [==============================] - 3s 3s/step - loss: 0.0376 - binary_accuracy: 0.9988 - val_loss: 1.3769 - val_binary_accuracy: 0.9587\n",
            "Epoch 122/150\n",
            "1/1 [==============================] - 4s 4s/step - loss: 0.0330 - binary_accuracy: 0.9993 - val_loss: 1.3792 - val_binary_accuracy: 0.9587\n",
            "Epoch 123/150\n",
            "1/1 [==============================] - 4s 4s/step - loss: 0.0337 - binary_accuracy: 0.9992 - val_loss: 1.3889 - val_binary_accuracy: 0.9587\n",
            "Epoch 124/150\n",
            "1/1 [==============================] - 3s 3s/step - loss: 0.0287 - binary_accuracy: 0.9993 - val_loss: 1.4032 - val_binary_accuracy: 0.9600\n",
            "Epoch 125/150\n",
            "1/1 [==============================] - 3s 3s/step - loss: 0.0303 - binary_accuracy: 0.9992 - val_loss: 1.4273 - val_binary_accuracy: 0.9573\n",
            "Epoch 126/150\n",
            "1/1 [==============================] - 5s 5s/step - loss: 0.0292 - binary_accuracy: 0.9987 - val_loss: 1.4493 - val_binary_accuracy: 0.9580\n",
            "Epoch 127/150\n",
            "1/1 [==============================] - 3s 3s/step - loss: 0.0299 - binary_accuracy: 0.9988 - val_loss: 1.4779 - val_binary_accuracy: 0.9573\n",
            "Epoch 128/150\n",
            "1/1 [==============================] - 3s 3s/step - loss: 0.0268 - binary_accuracy: 0.9987 - val_loss: 1.4898 - val_binary_accuracy: 0.9567\n",
            "Epoch 129/150\n",
            "1/1 [==============================] - 4s 4s/step - loss: 0.0251 - binary_accuracy: 0.9990 - val_loss: 1.4786 - val_binary_accuracy: 0.9560\n",
            "Epoch 130/150\n",
            "1/1 [==============================] - 4s 4s/step - loss: 0.0264 - binary_accuracy: 0.9987 - val_loss: 1.4676 - val_binary_accuracy: 0.9580\n",
            "Epoch 131/150\n",
            "1/1 [==============================] - 3s 3s/step - loss: 0.0250 - binary_accuracy: 0.9990 - val_loss: 1.4569 - val_binary_accuracy: 0.9600\n",
            "Epoch 132/150\n",
            "1/1 [==============================] - 3s 3s/step - loss: 0.0206 - binary_accuracy: 0.9995 - val_loss: 1.4446 - val_binary_accuracy: 0.9600\n",
            "Epoch 133/150\n",
            "1/1 [==============================] - 5s 5s/step - loss: 0.0186 - binary_accuracy: 0.9998 - val_loss: 1.4353 - val_binary_accuracy: 0.9607\n",
            "Epoch 134/150\n",
            "1/1 [==============================] - 3s 3s/step - loss: 0.0192 - binary_accuracy: 0.9995 - val_loss: 1.4289 - val_binary_accuracy: 0.9600\n",
            "Epoch 135/150\n",
            "1/1 [==============================] - 3s 3s/step - loss: 0.0177 - binary_accuracy: 0.9998 - val_loss: 1.4350 - val_binary_accuracy: 0.9607\n",
            "Epoch 136/150\n",
            "1/1 [==============================] - 4s 4s/step - loss: 0.0199 - binary_accuracy: 0.9992 - val_loss: 1.4402 - val_binary_accuracy: 0.9620\n",
            "Epoch 137/150\n",
            "1/1 [==============================] - 4s 4s/step - loss: 0.0214 - binary_accuracy: 0.9992 - val_loss: 1.4473 - val_binary_accuracy: 0.9607\n",
            "Epoch 138/150\n",
            "1/1 [==============================] - 3s 3s/step - loss: 0.0184 - binary_accuracy: 0.9995 - val_loss: 1.4826 - val_binary_accuracy: 0.9580\n",
            "Epoch 139/150\n",
            "1/1 [==============================] - 3s 3s/step - loss: 0.0160 - binary_accuracy: 0.9995 - val_loss: 1.5251 - val_binary_accuracy: 0.9540\n",
            "Epoch 140/150\n",
            "1/1 [==============================] - 5s 5s/step - loss: 0.0210 - binary_accuracy: 0.9990 - val_loss: 1.4997 - val_binary_accuracy: 0.9567\n",
            "Epoch 141/150\n",
            "1/1 [==============================] - 3s 3s/step - loss: 0.0179 - binary_accuracy: 0.9992 - val_loss: 1.4680 - val_binary_accuracy: 0.9580\n",
            "Epoch 142/150\n",
            "1/1 [==============================] - 4s 4s/step - loss: 0.0155 - binary_accuracy: 0.9995 - val_loss: 1.4853 - val_binary_accuracy: 0.9567\n",
            "Epoch 143/150\n",
            "1/1 [==============================] - 5s 5s/step - loss: 0.0267 - binary_accuracy: 0.9988 - val_loss: 1.3795 - val_binary_accuracy: 0.9587\n",
            "Epoch 144/150\n",
            "1/1 [==============================] - 3s 3s/step - loss: 0.0170 - binary_accuracy: 0.9998 - val_loss: 1.3726 - val_binary_accuracy: 0.9567\n",
            "Epoch 145/150\n",
            "1/1 [==============================] - 3s 3s/step - loss: 0.0345 - binary_accuracy: 0.9985 - val_loss: 1.4062 - val_binary_accuracy: 0.9593\n",
            "Epoch 146/150\n",
            "1/1 [==============================] - 5s 5s/step - loss: 0.0194 - binary_accuracy: 0.9993 - val_loss: 1.4982 - val_binary_accuracy: 0.9580\n",
            "Epoch 147/150\n",
            "1/1 [==============================] - 3s 3s/step - loss: 0.0162 - binary_accuracy: 0.9995 - val_loss: 1.6641 - val_binary_accuracy: 0.9500\n",
            "Epoch 148/150\n",
            "1/1 [==============================] - 3s 3s/step - loss: 0.0273 - binary_accuracy: 0.9988 - val_loss: 1.6113 - val_binary_accuracy: 0.9507\n",
            "Epoch 149/150\n",
            "1/1 [==============================] - 4s 4s/step - loss: 0.0166 - binary_accuracy: 0.9995 - val_loss: 1.5480 - val_binary_accuracy: 0.9513\n",
            "Epoch 150/150\n",
            "1/1 [==============================] - 4s 4s/step - loss: 0.0208 - binary_accuracy: 0.9995 - val_loss: 1.5819 - val_binary_accuracy: 0.9493\n"
          ]
        },
        {
          "output_type": "execute_result",
          "data": {
            "text/plain": [
              "<keras.callbacks.History at 0x7f789e5510d0>"
            ]
          },
          "metadata": {},
          "execution_count": 5
        }
      ]
    },
    {
      "cell_type": "markdown",
      "source": [
        "# Summary"
      ],
      "metadata": {
        "id": "F7Ly8S9bYZH5"
      }
    },
    {
      "cell_type": "code",
      "source": [
        "model.summary()"
      ],
      "metadata": {
        "colab": {
          "base_uri": "https://localhost:8080/"
        },
        "id": "D5qWNR9lYa4P",
        "outputId": "2db9c538-0ecc-47a7-c69b-e939c6ed6a10"
      },
      "execution_count": 6,
      "outputs": [
        {
          "output_type": "stream",
          "name": "stdout",
          "text": [
            "Model: \"sequential\"\n",
            "_________________________________________________________________\n",
            " Layer (type)                Output Shape              Param #   \n",
            "=================================================================\n",
            " embedding (Embedding)       (None, 79, 100)           500000    \n",
            "                                                                 \n",
            " spatial_dropout1d (SpatialD  (None, 79, 100)          0         \n",
            " ropout1D)                                                       \n",
            "                                                                 \n",
            " lstm (LSTM)                 (None, 256)               365568    \n",
            "                                                                 \n",
            " dense (Dense)               (None, 12)                3084      \n",
            "                                                                 \n",
            "=================================================================\n",
            "Total params: 868,652\n",
            "Trainable params: 868,652\n",
            "Non-trainable params: 0\n",
            "_________________________________________________________________\n"
          ]
        }
      ]
    },
    {
      "cell_type": "markdown",
      "source": [
        "Il s'agit d'un résumé d'un modèle de réseau de neurones en séquence (Sequential) en utilisant le framework de deep learning Keras.\n",
        "\n",
        "Le modèle comporte 4 couches :\n",
        "\n",
        "La couche \"embedding\" est une couche d'incorporation, elle convertit les entrées (tokenisées par exemple) en un tenseur de forme (None, 79, 100) avec un total de 500 000 paramètres appris.\n",
        "La couche \"spatial_dropout1d\" est une couche de régularisation qui implémente une réduction de dimension spatiale. Elle n'a pas de paramètres à entraîner.\n",
        "La couche \"lstm\" est une couche LSTM (Long Short-Term Memory), une couche RNN (Réseau de Neurones Récurrents) utilisée pour traiter les séquences. Elle produit un tenseur de forme (None, 256) avec un total de 365 568 paramètres appris.\n",
        "La couche \"dense\" est une couche dense pleinement connectée qui produit un tenseur de forme (None, 12) avec un total de 3 084 paramètres appris.\n",
        "Le modèle totalise 868 652 paramètres, tous les paramètres sont entraînables et il n'y a pas de paramètres non-entraînables."
      ],
      "metadata": {
        "id": "o96rxPbodGE-"
      }
    },
    {
      "cell_type": "markdown",
      "source": [
        "\"Produire un tenseur de forme\" signifie qu'une couche dans un réseau de neurones produit une sortie sous forme de tenseur, qui est une structure de données utilisée pour stocker les données dans le cadre du deep learning.\n",
        "\n",
        "Un tenseur est un tableau multi-dimensionnel, où chaque dimension peut représenter différentes choses en fonction du modèle et des données d'entrée. Dans ce cas précis, la forme du tenseur est spécifiée comme (None, 79, 100), (None, 256) et (None, 12) pour les différentes couches. Le premier élément \"None\" signifie que le nombre d'exemples dans un lot n'est pas spécifié et peut varier. Les autres chiffres spécifient le nombre de caractéristiques ou d'états pour chaque exemple dans le lot."
      ],
      "metadata": {
        "id": "e3yZlubXdKWT"
      }
    },
    {
      "cell_type": "markdown",
      "source": [
        "# plot_model from TF"
      ],
      "metadata": {
        "id": "jWPkAU5vZJ9-"
      }
    },
    {
      "cell_type": "code",
      "source": [
        "from tensorflow.keras.utils import plot_model"
      ],
      "metadata": {
        "id": "N7ma1oxrZEfs"
      },
      "execution_count": 7,
      "outputs": []
    },
    {
      "cell_type": "markdown",
      "source": [
        "# Visualize"
      ],
      "metadata": {
        "id": "GgpmpPzAZVof"
      }
    },
    {
      "cell_type": "code",
      "source": [
        "plot_model(model, to_file='model.png', show_shapes=True)"
      ],
      "metadata": {
        "colab": {
          "base_uri": "https://localhost:8080/",
          "height": 533
        },
        "id": "XaVTe89lZYEe",
        "outputId": "b7553fe6-d3e6-4927-87ff-d4b7ed11a33f"
      },
      "execution_count": 10,
      "outputs": [
        {
          "output_type": "execute_result",
          "data": {
            "image/png": "[encoded data removed]",
            "text/plain": [
              "<IPython.core.display.Image object>"
            ]
          },
          "metadata": {},
          "execution_count": 10
        }
      ]
    },
    {
      "cell_type": "markdown",
      "source": [
        "# Part 5: Defines a function to predict the sentiment of an input text using the trained model. The input text is tokenized and padded, then the prediction is made based on the model. The label is then decoded and the confidence of the prediction is also returned."
      ],
      "metadata": {
        "id": "mxvqFaGGaF_6"
      }
    },
    {
      "cell_type": "code",
      "source": [
        "def predict_requirement(text):\n",
        "    # Tokenize and pad the input text\n",
        "    sequences = tokenizer.texts_to_sequences([text])\n",
        "    data = pad_sequences(sequences, maxlen=max_length)\n",
        "    # Predict the label\n",
        "    prediction = model.predict(data)\n",
        "    # Decode the label\n",
        "    label_index = prediction.argmax()\n",
        "    label = label_encoder.inverse_transform([label_index])\n",
        "    confidence = prediction[0][label_index]\n",
        "    return label[0], confidence"
      ],
      "metadata": {
        "id": "-A26aPSBaHmE"
      },
      "execution_count": 11,
      "outputs": []
    },
    {
      "cell_type": "markdown",
      "source": [
        "# Results"
      ],
      "metadata": {
        "id": "PJV1taQRaMrC"
      }
    },
    {
      "cell_type": "code",
      "source": [
        "from google.colab import drive\n",
        "drive.mount('/content/drive')"
      ],
      "metadata": {
        "id": "F19d5zZDd-ix"
      },
      "execution_count": null,
      "outputs": []
    },
    {
      "cell_type": "code",
      "source": [
        "phrases = [\"The software must be able to calculate the sum of two numbers.\",\n",
        "\"The website must allow users to search for products.\",\n",
        "\"The system must be available 99.99% of the time.\",\n",
        "\"The database must have a backup system to ensure data availability in case of failure.\",\n",
        "\"The software must be able to recover from a crash and resume normal operations without data loss.\",\n",
        "\"The system must detect and handle network failures without affecting the user experience.\",\n",
        "\"The software must comply with GDPR regulations.\",\n",
        "\"The website must include a disclaimer and privacy policy.\",\n",
        "\"The software must have a modern and user-friendly interface.\",\n",
        "\"The website must use consistent branding and follow a clean design.\",\n",
        "\"The code must be well-documented to facilitate future maintenance and upgrades.\",\n",
        "\"The system must have a monitoring system to detect potential issues before they become critical.\",\n",
        "\"The software must be easy to install and configure.\",\n",
        "\"The system must provide detailed logs for troubleshooting and auditing purposes.\",\n",
        "\"The software must be able to process 1000 requests per second.\",\n",
        "\"The website must load quickly and efficiently, even under heavy traffic.\",\n",
        "\"The software must be compatible with Windows, macOS, and Linux operating systems.\",\n",
        "\"The system must be able to integrate with other tools and systems through APIs.\",\n",
        "\"The software must be able to handle an increase in users and data without significant performance degradation.\",\n",
        "\"The system must be able to add additional resources, such as servers, as needed to maintain performance.\",\n",
        "\"The software must use secure protocols for transmitting data.\",\n",
        "\"The system must have strict access controls and user authentication mechanisms in place.\",\n",
        "\"The software must have clear and intuitive navigation.\",\n",
        "\"The website must be accessible for users with disabilities.\"]\n",
        "\n",
        "for phrase in phrases:\n",
        "    result = predict_requirement(phrase)\n",
        "    print(f\"Input: {phrase}\\nPrediction: {result[0]}\\nConfidence: {result[1]}\")"
      ],
      "metadata": {
        "colab": {
          "base_uri": "https://localhost:8080/"
        },
        "id": "AFra_q5gaPJS",
        "outputId": "4128973b-906d-486d-9178-c2109a8c3a0c"
      },
      "execution_count": 12,
      "outputs": [
        {
          "output_type": "stream",
          "name": "stdout",
          "text": [
            "1/1 [==============================] - 0s 486ms/step\n",
            "Input: The software must be able to calculate the sum of two numbers.\n",
            "Prediction: F\n",
            "Confidence: 0.4291246831417084\n",
            "1/1 [==============================] - 0s 55ms/step\n",
            "Input: The website must allow users to search for products.\n",
            "Prediction: F\n",
            "Confidence: 0.7586347460746765\n",
            "1/1 [==============================] - 0s 58ms/step\n",
            "Input: The system must be available 99.99% of the time.\n",
            "Prediction: A\n",
            "Confidence: 0.938076376914978\n",
            "1/1 [==============================] - 0s 64ms/step\n",
            "Input: The database must have a backup system to ensure data availability in case of failure.\n",
            "Prediction: L\n",
            "Confidence: 0.5200797319412231\n",
            "1/1 [==============================] - 0s 63ms/step\n",
            "Input: The software must be able to recover from a crash and resume normal operations without data loss.\n",
            "Prediction: US\n",
            "Confidence: 0.45550671219825745\n",
            "1/1 [==============================] - 0s 68ms/step\n",
            "Input: The system must detect and handle network failures without affecting the user experience.\n",
            "Prediction: SC\n",
            "Confidence: 0.34486883878707886\n",
            "1/1 [==============================] - 0s 58ms/step\n",
            "Input: The software must comply with GDPR regulations.\n",
            "Prediction: L\n",
            "Confidence: 0.8092653751373291\n",
            "1/1 [==============================] - 0s 66ms/step\n",
            "Input: The website must include a disclaimer and privacy policy.\n",
            "Prediction: SE\n",
            "Confidence: 0.7666864395141602\n",
            "1/1 [==============================] - 0s 67ms/step\n",
            "Input: The software must have a modern and user-friendly interface.\n",
            "Prediction: LF\n",
            "Confidence: 0.8219844102859497\n",
            "1/1 [==============================] - 0s 56ms/step\n",
            "Input: The website must use consistent branding and follow a clean design.\n",
            "Prediction: LF\n",
            "Confidence: 0.985450267791748\n",
            "1/1 [==============================] - 0s 53ms/step\n",
            "Input: The code must be well-documented to facilitate future maintenance and upgrades.\n",
            "Prediction: O\n",
            "Confidence: 0.6193217039108276\n",
            "1/1 [==============================] - 0s 50ms/step\n",
            "Input: The system must have a monitoring system to detect potential issues before they become critical.\n",
            "Prediction: F\n",
            "Confidence: 0.5417588949203491\n",
            "1/1 [==============================] - 0s 49ms/step\n",
            "Input: The software must be easy to install and configure.\n",
            "Prediction: F\n",
            "Confidence: 0.5449508428573608\n",
            "1/1 [==============================] - 0s 58ms/step\n",
            "Input: The system must provide detailed logs for troubleshooting and auditing purposes.\n",
            "Prediction: F\n",
            "Confidence: 0.800582766532898\n",
            "1/1 [==============================] - 0s 64ms/step\n",
            "Input: The software must be able to process 1000 requests per second.\n",
            "Prediction: SC\n",
            "Confidence: 0.7609634399414062\n",
            "1/1 [==============================] - 0s 67ms/step\n",
            "Input: The website must load quickly and efficiently, even under heavy traffic.\n",
            "Prediction: PE\n",
            "Confidence: 0.3971893787384033\n",
            "1/1 [==============================] - 0s 57ms/step\n",
            "Input: The software must be compatible with Windows, macOS, and Linux operating systems.\n",
            "Prediction: O\n",
            "Confidence: 0.9242547154426575\n",
            "1/1 [==============================] - 0s 58ms/step\n",
            "Input: The system must be able to integrate with other tools and systems through APIs.\n",
            "Prediction: F\n",
            "Confidence: 0.8968374133110046\n",
            "1/1 [==============================] - 0s 53ms/step\n",
            "Input: The software must be able to handle an increase in users and data without significant performance degradation.\n",
            "Prediction: SC\n",
            "Confidence: 0.5652073621749878\n",
            "1/1 [==============================] - 0s 55ms/step\n",
            "Input: The system must be able to add additional resources, such as servers, as needed to maintain performance.\n",
            "Prediction: O\n",
            "Confidence: 0.8677635788917542\n",
            "1/1 [==============================] - 0s 52ms/step\n",
            "Input: The software must use secure protocols for transmitting data.\n",
            "Prediction: SE\n",
            "Confidence: 0.810261070728302\n",
            "1/1 [==============================] - 0s 62ms/step\n",
            "Input: The system must have strict access controls and user authentication mechanisms in place.\n",
            "Prediction: SE\n",
            "Confidence: 0.8066702485084534\n",
            "1/1 [==============================] - 0s 52ms/step\n",
            "Input: The software must have clear and intuitive navigation.\n",
            "Prediction: LF\n",
            "Confidence: 0.3232830762863159\n",
            "1/1 [==============================] - 0s 59ms/step\n",
            "Input: The website must be accessible for users with disabilities.\n",
            "Prediction: SC\n",
            "Confidence: 0.2130127251148224\n"
          ]
        }
      ]
    }
  ]
}